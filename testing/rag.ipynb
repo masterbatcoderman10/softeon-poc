{
 "cells": [
  {
   "cell_type": "code",
   "execution_count": 1,
   "metadata": {},
   "outputs": [],
   "source": [
    "# import\n",
    "from llama_index.core.response.notebook_utils import (\n",
    "    display_source_node,\n",
    "    display_image_uris,\n",
    ")\n",
    "from llama_index.core.schema import ImageNode\n",
    "from chromadb.utils.data_loaders import ImageLoader\n",
    "from llama_index.core import SimpleDirectoryReader, StorageContext\n",
    "from llama_index.core.indices import MultiModalVectorStoreIndex\n",
    "from llama_index.core import VectorStoreIndex, SimpleDirectoryReader\n",
    "from llama_index.vector_stores.chroma import ChromaVectorStore\n",
    "from llama_index.core import StorageContext\n",
    "from llama_index.core import Settings\n",
    "from IPython.display import Markdown, display\n",
    "import chromadb\n",
    "from chromadb.utils.embedding_functions import OpenCLIPEmbeddingFunction\n",
    "from llama_index.llms.openai import OpenAI\n",
    "from dotenv import load_dotenv\n"
   ]
  },
  {
   "cell_type": "code",
   "execution_count": 2,
   "metadata": {},
   "outputs": [],
   "source": [
    "Settings.chunk_size = 256\n",
    "Settings.chunk_overlap = 25"
   ]
  },
  {
   "cell_type": "code",
   "execution_count": 3,
   "metadata": {},
   "outputs": [
    {
     "data": {
      "text/plain": [
       "True"
      ]
     },
     "execution_count": 3,
     "metadata": {},
     "output_type": "execute_result"
    }
   ],
   "source": [
    "load_dotenv()"
   ]
  },
  {
   "cell_type": "code",
   "execution_count": 4,
   "metadata": {},
   "outputs": [],
   "source": [
    "llm = OpenAI(model=\"gpt-4o\", temperature=0)\n",
    "Settings.llm = llm\n",
    "\n",
    "# set defalut text and image embedding functions\n",
    "# embedding_function = OpenCLIPEmbeddingFunction()\n",
    "\n",
    "\n",
    "image_loader = ImageLoader()\n",
    "\n",
    "# create client and a new collection\n",
    "chroma_client = chromadb.PersistentClient(path=\"../data/vdb\")\n",
    "chroma_collection = chroma_client.create_collection(\n",
    "    \"softeon_v2\",\n",
    "    data_loader=image_loader,\n",
    ")"
   ]
  },
  {
   "cell_type": "code",
   "execution_count": 5,
   "metadata": {},
   "outputs": [
    {
     "name": "stderr",
     "output_type": "stream",
     "text": [
      "/Users/akhtar/Documents/Documents-Suhaib/Projects/softeon-poc/venv/lib/python3.11/site-packages/tqdm/auto.py:21: TqdmWarning: IProgress not found. Please update jupyter and ipywidgets. See https://ipywidgets.readthedocs.io/en/stable/user_install.html\n",
      "  from .autonotebook import tqdm as notebook_tqdm\n"
     ]
    }
   ],
   "source": [
    "# load documents\n",
    "documents = SimpleDirectoryReader(\"../data/processed_data\").load_data()\n",
    "\n",
    "# set up ChromaVectorStore and load in data\n",
    "vector_store = ChromaVectorStore(chroma_collection=chroma_collection)\n",
    "storage_context = StorageContext.from_defaults(vector_store=vector_store)\n",
    "index = MultiModalVectorStoreIndex.from_documents(documents, storage_context)\n"
   ]
  },
  {
   "cell_type": "code",
   "execution_count": 27,
   "metadata": {},
   "outputs": [],
   "source": [
    "retriever = index.as_retriever(similarity_top_k=10, image_similarity_top_k=10)"
   ]
  },
  {
   "cell_type": "code",
   "execution_count": 23,
   "metadata": {},
   "outputs": [],
   "source": [
    "chat_engine = index.as_chat_engine(chat_mode=\"condense_question\", verbose=True)"
   ]
  },
  {
   "cell_type": "code",
   "execution_count": 25,
   "metadata": {},
   "outputs": [
    {
     "data": {
      "text/markdown": [
       "**Node ID:** b4cce2bf-f315-4190-bd73-7a9074434e1e<br>**Similarity:** 0.7552796762300297<br>**Text:** Figure 2 – User Created  \n",
       " \n",
       "You can also create user by copying existing user details.  \n",
       "3.1. Cre...<br>"
      ],
      "text/plain": [
       "<IPython.core.display.Markdown object>"
      ]
     },
     "metadata": {},
     "output_type": "display_data"
    },
    {
     "data": {
      "text/markdown": [
       "**Node ID:** 49530bf1-830e-43cb-a1f8-5cd718be435d<br>**Similarity:** 0.6810950435013073<br>**Text:** On clicking Back, the system displays the created user details in the grid of Security Profile > ...<br>"
      ],
      "text/plain": [
       "<IPython.core.display.Markdown object>"
      ]
     },
     "metadata": {},
     "output_type": "display_data"
    },
    {
     "data": {
      "text/markdown": [
       "**Node ID:** d04cb443-3cc8-4cff-aa6e-d24b2e5468b8<br>**Similarity:** 0.6770101731376912<br>**Text:** You can map the \n",
       "user to the user group using Advanced User Map tab. Refer Mapping User with User...<br>"
      ],
      "text/plain": [
       "<IPython.core.display.Markdown object>"
      ]
     },
     "metadata": {},
     "output_type": "display_data"
    },
    {
     "data": {
      "text/markdown": [
       "**Node ID:** daadb036-f8c7-491b-acd3-6a2d34cc1033<br>**Similarity:** 0.6721710834294568<br>**Text:** 1) Select the user record from the grid to set the security questions and answers. \n",
       "2) Select the...<br>"
      ],
      "text/plain": [
       "<IPython.core.display.Markdown object>"
      ]
     },
     "metadata": {},
     "output_type": "display_data"
    },
    {
     "data": {
      "text/markdown": [
       "**Node ID:** af116904-2bd5-4b42-84cc-5ece3100fb35<br>**Similarity:** 0.6531386023608045<br>**Text:** On clicking Submit, the system creates the User Group and displays in th grid. \n",
       " \n",
       "Figure 8 – User...<br>"
      ],
      "text/plain": [
       "<IPython.core.display.Markdown object>"
      ]
     },
     "metadata": {},
     "output_type": "display_data"
    },
    {
     "data": {
      "text/plain": [
       "<Figure size 1600x900 with 0 Axes>"
      ]
     },
     "metadata": {},
     "output_type": "display_data"
    }
   ],
   "source": [
    "retrieval_results = retriever.retrieve(\"How to create a user from existing record?\")\n",
    "\n",
    "image_results = []\n",
    "MAX_RES = 5\n",
    "cnt = 0\n",
    "for r in retrieval_results:\n",
    "    if isinstance(r.node, ImageNode):\n",
    "        image_results.append(r.node.metadata[\"file_path\"])\n",
    "    else:\n",
    "        if cnt < MAX_RES:\n",
    "            display_source_node(r)\n",
    "        cnt += 1\n",
    "\n",
    "display_image_uris(image_results, [3, 3], top_k=2)"
   ]
  },
  {
   "cell_type": "code",
   "execution_count": 26,
   "metadata": {},
   "outputs": [
    {
     "data": {
      "text/plain": [
       "0"
      ]
     },
     "execution_count": 26,
     "metadata": {},
     "output_type": "execute_result"
    }
   ],
   "source": [
    "len(image_results)"
   ]
  },
  {
   "cell_type": "code",
   "execution_count": 32,
   "metadata": {},
   "outputs": [
    {
     "name": "stdout",
     "output_type": "stream",
     "text": [
      "('1) Select the user record from the grid to set the security questions and '\n",
      " 'answers. \\n'\n",
      " '2) Select the Delete security questions check box to delete the existing '\n",
      " 'security questions and set \\n'\n",
      " 'up new questions. \\n'\n",
      " ' \\n'\n",
      " 'Figure 6 – User selection to set up security questions \\n'\n",
      " 'On clicking Security Questions, the system displays the Security Questions '\n",
      " 'screen. \\n'\n",
      " '3) Under Questions, select the questions from the lists. \\n'\n",
      " 'On clicking Submit, the security questions will be set for the selected '\n",
      " 'user. \\n'\n",
      " ' \\n'\n",
      " 'Figure 7 – Security Questions screen \\n'\n",
      " '\\x0c'\n",
      " ' \\n'\n",
      " ' \\n'\n",
      " ' \\n'\n",
      " ' \\n'\n",
      " 'User Guide \\n'\n",
      " '10 \\n'\n",
      " 'Security Profile \\n'\n",
      " '4. Creating User Group \\n'\n",
      " 'User Group is created to group users and grant access rights to a set of '\n",
      " 'users. \\n'\n",
      " 'Menu Access: Administrator > Security > Security Profile > Group (tab) \\n'\n",
      " 'Mandatory Values \\n'\n",
      " '1) Specify the User Group ID and its Description. \\n'\n",
      " '2) Select the User Group Level to indicate the level of this user group. \\n'\n",
      " 'On clicking Submit, the system creates the User Group and displays in th '\n",
      " 'grid.')\n"
     ]
    }
   ],
   "source": [
    "from pprint import pprint\n",
    "pprint(retrieval_results[0].node.text)"
   ]
  },
  {
   "cell_type": "code",
   "execution_count": 27,
   "metadata": {},
   "outputs": [
    {
     "name": "stdout",
     "output_type": "stream",
     "text": [
      "Querying with: What are all the items that can be found on the user creation screen in the Softeon WMS Security Profile software?\n"
     ]
    }
   ],
   "source": [
    "result = chat_engine.chat(\"What are all the items that can be found on the user creation screen?\")"
   ]
  },
  {
   "cell_type": "code",
   "execution_count": 28,
   "metadata": {},
   "outputs": [
    {
     "name": "stdout",
     "output_type": "stream",
     "text": [
      "('The user creation screen in the Softeon WMS Security Profile software '\n",
      " 'includes options for creating a new user from existing user details, '\n",
      " 'unlocking user login, and setting up security questions for password change.')\n"
     ]
    }
   ],
   "source": [
    "pprint(result.response)"
   ]
  },
  {
   "cell_type": "markdown",
   "metadata": {},
   "source": [
    "### Image Analysis"
   ]
  },
  {
   "cell_type": "code",
   "execution_count": null,
   "metadata": {},
   "outputs": [],
   "source": [
    "import cv2\n",
    "import os"
   ]
  },
  {
   "cell_type": "code",
   "execution_count": 10,
   "metadata": {},
   "outputs": [
    {
     "name": "stdout",
     "output_type": "stream",
     "text": [
      "Image name:  SFTN_WMS_SecurityProfile-UserGuide_page_5_image_2.png\n",
      "Image size:  (14, 16, 3)\n",
      "Image size:  224\n",
      "Image name:  SFTN_WMS_SecurityProfile-UserGuide_page_15_image_1.png\n",
      "Image size:  (79, 286, 3)\n",
      "Image size:  22594\n",
      "Image name:  SFTN_WMS_SecurityProfile-UserGuide_page_5_image_3.png\n",
      "Image size:  (84, 81, 3)\n",
      "Image size:  6804\n",
      "Image name:  SFTN_WMS_SecurityProfile-UserGuide_page_5_image_1.png\n",
      "Image size:  (79, 286, 3)\n",
      "Image size:  22594\n",
      "Image name:  SFTN_WMS_SecurityProfile-UserGuide_page_15_image_2.png\n",
      "Image size:  (604, 1366, 3)\n",
      "Image size:  825064\n",
      "Image name:  SFTN_WMS_SecurityProfile-UserGuide_page_19_image_4.png\n",
      "Image size:  (84, 81, 3)\n",
      "Image size:  6804\n",
      "Image name:  SFTN_WMS_SecurityProfile-UserGuide_page_15_image_3.png\n",
      "Image size:  (84, 81, 3)\n",
      "Image size:  6804\n",
      "Image name:  SFTN_WMS_SecurityProfile-UserGuide_page_10_image_2.png\n",
      "Image size:  (484, 1366, 3)\n",
      "Image size:  661144\n",
      "Image name:  SFTN_WMS_SecurityProfile-UserGuide_page_9_image_2.png\n",
      "Image size:  (551, 1366, 3)\n",
      "Image size:  752666\n",
      "Image name:  SFTN_WMS_SecurityProfile-UserGuide_page_19_image_1.png\n",
      "Image size:  (79, 286, 3)\n",
      "Image size:  22594\n",
      "Image name:  SFTN_WMS_SecurityProfile-UserGuide_page_9_image_3.png\n",
      "Image size:  (287, 951, 3)\n",
      "Image size:  272937\n",
      "Image name:  SFTN_WMS_SecurityProfile-UserGuide_page_10_image_1.png\n",
      "Image size:  (79, 286, 3)\n",
      "Image size:  22594\n",
      "Image name:  SFTN_WMS_SecurityProfile-UserGuide_page_9_image_1.png\n",
      "Image size:  (79, 286, 3)\n",
      "Image size:  22594\n",
      "Image name:  SFTN_WMS_SecurityProfile-UserGuide_page_19_image_2.png\n",
      "Image size:  (602, 1366, 3)\n",
      "Image size:  822332\n",
      "Image name:  SFTN_WMS_SecurityProfile-UserGuide_page_19_image_3.png\n",
      "Image size:  (602, 1366, 3)\n",
      "Image size:  822332\n",
      "Image name:  SFTN_WMS_SecurityProfile-UserGuide_page_3_image_3.png\n",
      "Image size:  (72, 70, 3)\n",
      "Image size:  5040\n",
      "Image name:  SFTN_WMS_SecurityProfile-UserGuide_page_3_image_2.png\n",
      "Image size:  (32, 98, 3)\n",
      "Image size:  3136\n",
      "Image name:  SFTN_WMS_SecurityProfile-UserGuide_page_13_image_1.png\n",
      "Image size:  (79, 286, 3)\n",
      "Image size:  22594\n",
      "Image name:  SFTN_WMS_SecurityProfile-UserGuide_page_13_image_3.png\n",
      "Image size:  (84, 81, 3)\n",
      "Image size:  6804\n",
      "Image name:  SFTN_WMS_SecurityProfile-UserGuide_page_3_image_1.png\n",
      "Image size:  (79, 286, 3)\n",
      "Image size:  22594\n",
      "Image name:  SFTN_WMS_SecurityProfile-UserGuide_page_13_image_2.png\n",
      "Image size:  (626, 1331, 3)\n",
      "Image size:  833206\n",
      "Image name:  SFTN_WMS_SecurityProfile-UserGuide_page_16_image_3.png\n",
      "Image size:  (84, 81, 3)\n",
      "Image size:  6804\n",
      "Image name:  SFTN_WMS_SecurityProfile-UserGuide_page_16_image_2.png\n",
      "Image size:  (604, 1366, 3)\n",
      "Image size:  825064\n",
      "Image name:  SFTN_WMS_SecurityProfile-UserGuide_page_6_image_1.png\n",
      "Image size:  (79, 286, 3)\n",
      "Image size:  22594\n",
      "Image name:  SFTN_WMS_SecurityProfile-UserGuide_page_6_image_3.png\n",
      "Image size:  (84, 81, 3)\n",
      "Image size:  6804\n",
      "Image name:  SFTN_WMS_SecurityProfile-UserGuide_page_16_image_1.png\n",
      "Image size:  (79, 286, 3)\n",
      "Image size:  22594\n",
      "Image name:  SFTN_WMS_SecurityProfile-UserGuide_page_6_image_2.png\n",
      "Image size:  (497, 1366, 3)\n",
      "Image size:  678902\n",
      "Image name:  SFTN_WMS_SecurityProfile-UserGuide_page_1_image_3.png\n",
      "Image size:  (723, 1349, 3)\n",
      "Image size:  975327\n",
      "Image name:  SFTN_WMS_SecurityProfile-UserGuide_page_18_image_3.png\n",
      "Image size:  (84, 81, 3)\n",
      "Image size:  6804\n",
      "Image name:  SFTN_WMS_SecurityProfile-UserGuide_page_18_image_2.png\n",
      "Image size:  (228, 1280, 3)\n",
      "Image size:  291840\n",
      "Image name:  SFTN_WMS_SecurityProfile-UserGuide_page_8_image_1.png\n",
      "Image size:  (79, 286, 3)\n",
      "Image size:  22594\n",
      "Image name:  SFTN_WMS_SecurityProfile-UserGuide_page_1_image_2.png\n",
      "Image size:  (173, 526, 3)\n",
      "Image size:  90998\n",
      "Image name:  SFTN_WMS_SecurityProfile-UserGuide_page_11_image_1.png\n",
      "Image size:  (79, 286, 3)\n",
      "Image size:  22594\n",
      "Image name:  SFTN_WMS_SecurityProfile-UserGuide_page_11_image_3.png\n",
      "Image size:  (538, 1366, 3)\n",
      "Image size:  734908\n",
      "Image name:  SFTN_WMS_SecurityProfile-UserGuide_page_8_image_3.png\n",
      "Image size:  (608, 1366, 3)\n",
      "Image size:  830528\n",
      "Image name:  SFTN_WMS_SecurityProfile-UserGuide_page_18_image_1.png\n",
      "Image size:  (79, 286, 3)\n",
      "Image size:  22594\n",
      "Image name:  SFTN_WMS_SecurityProfile-UserGuide_page_8_image_2.png\n",
      "Image size:  (352, 1024, 3)\n",
      "Image size:  360448\n",
      "Image name:  SFTN_WMS_SecurityProfile-UserGuide_page_1_image_1.png\n",
      "Image size:  (519, 753, 3)\n",
      "Image size:  390807\n",
      "Image name:  SFTN_WMS_SecurityProfile-UserGuide_page_11_image_2.png\n",
      "Image size:  (538, 1366, 3)\n",
      "Image size:  734908\n",
      "Image name:  SFTN_WMS_SecurityProfile-UserGuide_page_14_image_3.png\n",
      "Image size:  (549, 1366, 3)\n",
      "Image size:  749934\n",
      "Image name:  SFTN_WMS_SecurityProfile-UserGuide_page_14_image_2.png\n",
      "Image size:  (554, 1366, 3)\n",
      "Image size:  756764\n",
      "Image name:  SFTN_WMS_SecurityProfile-UserGuide_page_4_image_1.png\n",
      "Image size:  (79, 286, 3)\n",
      "Image size:  22594\n",
      "Image name:  SFTN_WMS_SecurityProfile-UserGuide_page_1_image_4.png\n",
      "Image size:  (724, 762, 3)\n",
      "Image size:  551688\n",
      "Image name:  SFTN_WMS_SecurityProfile-UserGuide_page_14_image_1.png\n",
      "Image size:  (79, 286, 3)\n",
      "Image size:  22594\n",
      "Image name:  SFTN_WMS_SecurityProfile-UserGuide_page_4_image_2.png\n",
      "Image size:  (84, 81, 3)\n",
      "Image size:  6804\n",
      "Image name:  SFTN_WMS_SecurityProfile-UserGuide_page_7_image_2.png\n",
      "Image size:  (551, 1366, 3)\n",
      "Image size:  752666\n",
      "Image name:  SFTN_WMS_SecurityProfile-UserGuide_page_17_image_1.png\n",
      "Image size:  (79, 286, 3)\n",
      "Image size:  22594\n",
      "Image name:  SFTN_WMS_SecurityProfile-UserGuide_page_20_image_4.png\n",
      "Image size:  (84, 81, 3)\n",
      "Image size:  6804\n",
      "Image name:  SFTN_WMS_SecurityProfile-UserGuide_page_7_image_3.png\n",
      "Image size:  (551, 1366, 3)\n",
      "Image size:  752666\n",
      "Image name:  SFTN_WMS_SecurityProfile-UserGuide_page_7_image_1.png\n",
      "Image size:  (79, 286, 3)\n",
      "Image size:  22594\n",
      "Image name:  SFTN_WMS_SecurityProfile-UserGuide_page_17_image_2.png\n",
      "Image size:  (601, 1366, 3)\n",
      "Image size:  820966\n",
      "Image name:  SFTN_WMS_SecurityProfile-UserGuide_page_17_image_3.png\n",
      "Image size:  (601, 1366, 3)\n",
      "Image size:  820966\n",
      "Image name:  SFTN_WMS_SecurityProfile-UserGuide_page_12_image_2.png\n",
      "Image size:  (626, 1331, 3)\n",
      "Image size:  833206\n",
      "Image name:  SFTN_WMS_SecurityProfile-UserGuide_page_2_image_1.png\n",
      "Image size:  (79, 286, 3)\n",
      "Image size:  22594\n",
      "Image name:  SFTN_WMS_SecurityProfile-UserGuide_page_7_image_4.png\n",
      "Image size:  (84, 81, 3)\n",
      "Image size:  6804\n",
      "Image name:  SFTN_WMS_SecurityProfile-UserGuide_page_20_image_3.png\n",
      "Image size:  (602, 1366, 3)\n",
      "Image size:  822332\n",
      "Image name:  SFTN_WMS_SecurityProfile-UserGuide_page_20_image_2.png\n",
      "Image size:  (198, 587, 3)\n",
      "Image size:  116226\n",
      "Image name:  SFTN_WMS_SecurityProfile-UserGuide_page_12_image_1.png\n",
      "Image size:  (79, 286, 3)\n",
      "Image size:  22594\n",
      "Image name:  SFTN_WMS_SecurityProfile-UserGuide_page_20_image_1.png\n",
      "Image size:  (79, 286, 3)\n",
      "Image size:  22594\n"
     ]
    }
   ],
   "source": [
    "dir_path = \"../data/processed_data\"\n",
    "wxh = []\n",
    "\n",
    "# for each file in the directrory if the file is an image load and then print it's size\n",
    "for file in os.listdir(dir_path):\n",
    "    if file.endswith(\".png\"):\n",
    "        img = cv2.imread(os.path.join(dir_path, file))\n",
    "        print(\"Image name: \", file)\n",
    "        print(\"Image size: \", img.shape)\n",
    "        #print w multiplied by h of the image\n",
    "        wxh.append(img.shape[0] * img.shape[1])\n",
    "        print(\"Image size: \", wxh[-1])\n",
    "\n"
   ]
  },
  {
   "cell_type": "code",
   "execution_count": 13,
   "metadata": {},
   "outputs": [
    {
     "data": {
      "image/png": "[encoded data removed]",
      "text/plain": [
       "<Figure size 640x480 with 1 Axes>"
      ]
     },
     "metadata": {},
     "output_type": "display_data"
    }
   ],
   "source": [
    "#plot a histogram of the w multiplied by h of the images\n",
    "import matplotlib.pyplot as plt\n",
    "\n",
    "plt.hist(wxh, bins=10)\n",
    "plt.xlabel('Image Size')\n",
    "plt.ylabel('Frequency')\n",
    "plt.title('Histogram of Image Size')\n",
    "plt.show()"
   ]
  },
  {
   "cell_type": "code",
   "execution_count": 14,
   "metadata": {},
   "outputs": [
    {
     "name": "stdout",
     "output_type": "stream",
     "text": [
      "Proportion greater than 100,000:  0.4406779661016949\n"
     ]
    }
   ],
   "source": [
    "#how many proportion greater than 100,000\n",
    "greater_than_100000 = [i for i in wxh if i > 100000]\n",
    "print(\"Proportion greater than 100,000: \", len(greater_than_100000)/len(wxh))"
   ]
  },
  {
   "cell_type": "code",
   "execution_count": null,
   "metadata": {},
   "outputs": [],
   "source": []
  }
 ],
 "metadata": {
  "kernelspec": {
   "display_name": "venv",
   "language": "python",
   "name": "python3"
  },
  "language_info": {
   "codemirror_mode": {
    "name": "ipython",
    "version": 3
   },
   "file_extension": ".py",
   "mimetype": "text/x-python",
   "name": "python",
   "nbconvert_exporter": "python",
   "pygments_lexer": "ipython3",
   "version": "3.11.9"
  }
 },
 "nbformat": 4,
 "nbformat_minor": 2
}
