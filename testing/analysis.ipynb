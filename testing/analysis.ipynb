{
 "cells": [
  {
   "cell_type": "code",
   "execution_count": 21,
   "metadata": {},
   "outputs": [],
   "source": [
    "import os"
   ]
  },
  {
   "cell_type": "code",
   "execution_count": 16,
   "metadata": {},
   "outputs": [],
   "source": [
    "def get_incomplete_files(dir_path, dst_path):\n",
    "\n",
    "    # isolate files that are not present in dst_path but are there in dir_path, the filename is the same, but the extension is different\n",
    "    img_files = [file for file in os.listdir(\n",
    "        dir_path) if file.endswith(\".png\") or file.endswith(\".jpg\")]\n",
    "    img_summaries = [file for file in os.listdir(\n",
    "        dst_path) if file.endswith(\".txt\")]\n",
    "\n",
    "    # compare using file extensions\n",
    "    incomplete_files = [\n",
    "        file for file in img_files if f\"{file}.txt\" not in img_summaries]\n",
    "    return incomplete_files"
   ]
  },
  {
   "cell_type": "code",
   "execution_count": null,
   "metadata": {},
   "outputs": [
    {
     "name": "stdout",
     "output_type": "stream",
     "text": [
      "Images:  82 Image Summaries:  76\n"
     ]
    },
    {
     "name": "stdout",
     "output_type": "stream",
     "text": [
      "Images:  82 Image Summaries:  82\n"
     ]
    }
   ],
   "source": [
    "images = \"../data/temporary_data/images\"\n",
    "image_summaries = \"../data/temporary_data/image_summaries\"\n",
    "\n",
    "#get the number of files in both directories and print side-by-side\n",
    "images_files = os.listdir(images)\n",
    "image_summaries_files = os.listdir(image_summaries)\n",
    "\n",
    "print(\"Images: \", len(images_files), \"Image Summaries: \", len(image_summaries_files))"
   ]
  },
  {
   "cell_type": "code",
   "execution_count": 18,
   "metadata": {},
   "outputs": [],
   "source": [
    "incomplete_files = get_incomplete_files(images, image_summaries)"
   ]
  },
  {
   "cell_type": "code",
   "execution_count": 19,
   "metadata": {},
   "outputs": [
    {
     "data": {
      "text/plain": [
       "['SFTIN_WMS_Account-UserGuide_page_1_image_4.png',\n",
       " 'SFTIN_WMS_Account-UserGuide_page_4_image_2.png',\n",
       " 'SFTIN_WMS_Account-UserGuide_page_1_image_3.png',\n",
       " 'SFTIN_WMS_Account-UserGuide_page_1_image_1.png',\n",
       " 'SFTIN_WMS_Account-UserGuide_page_7_image_2.png',\n",
       " 'SFTIN_WMS_Account-UserGuide_page_6_image_2.png']"
      ]
     },
     "execution_count": 19,
     "metadata": {},
     "output_type": "execute_result"
    }
   ],
   "source": [
    "incomplete_files"
   ]
  },
  {
   "cell_type": "markdown",
   "metadata": {},
   "source": [
    "## Token Analysis"
   ]
  },
  {
   "cell_type": "code",
   "execution_count": 24,
   "metadata": {},
   "outputs": [],
   "source": [
    "import tiktoken\n",
    "\n",
    "def num_tokens_from_string(string: str) -> int:\n",
    "    \"\"\"Returns the number of tokens in a text string.\"\"\"\n",
    "    encoding = tiktoken.encoding_for_model('gpt-3.5-turbo')\n",
    "    num_tokens = len(encoding.encode(string))\n",
    "    return num_tokens"
   ]
  },
  {
   "cell_type": "code",
   "execution_count": 38,
   "metadata": {},
   "outputs": [],
   "source": [
    "data_dir = \"../data/temporary_data/text\"\n",
    "texts = {}\n",
    "for file in os.listdir(data_dir):\n",
    "    with open(os.path.join(data_dir, file), \"r\") as f:\n",
    "        texts[file] = f.read()\n",
    "    "
   ]
  },
  {
   "cell_type": "code",
   "execution_count": 45,
   "metadata": {},
   "outputs": [],
   "source": [
    "token_sizes = [num_tokens_from_string(text[1]) for text in texts.items()]"
   ]
  },
  {
   "cell_type": "code",
   "execution_count": 47,
   "metadata": {},
   "outputs": [
    {
     "data": {
      "text/plain": [
       "[782, 481, 544, 606, 1060, 619, 437, 1322, 582, 965, 4092]"
      ]
     },
     "execution_count": 47,
     "metadata": {},
     "output_type": "execute_result"
    }
   ],
   "source": [
    "token_sizes"
   ]
  },
  {
   "cell_type": "markdown",
   "metadata": {},
   "source": [
    "## Tagging"
   ]
  },
  {
   "cell_type": "code",
   "execution_count": 58,
   "metadata": {},
   "outputs": [
    {
     "data": {
      "text/plain": [
       "True"
      ]
     },
     "execution_count": 58,
     "metadata": {},
     "output_type": "execute_result"
    }
   ],
   "source": [
    "from langchain_community.chat_message_histories.file import FileChatMessageHistory\n",
    "from langchain_community.chat_message_histories import ChatMessageHistory\n",
    "import io\n",
    "import re\n",
    "import tiktoken\n",
    "from IPython.display import HTML, display\n",
    "from langchain_core.runnables import RunnableLambda, RunnablePassthrough\n",
    "from PIL import Image\n",
    "import pickle\n",
    "from langchain_core.documents import Document\n",
    "import uuid\n",
    "import os\n",
    "from dotenv import load_dotenv\n",
    "from langchain_openai import ChatOpenAI\n",
    "from langchain_core.output_parsers import StrOutputParser\n",
    "from langchain_core.prompts import ChatPromptTemplate, MessagesPlaceholder, HumanMessagePromptTemplate, AIMessagePromptTemplate, StringPromptTemplate\n",
    "from langchain_core.chat_history import BaseChatMessageHistory\n",
    "from langchain_core.messages import AIMessage, HumanMessage, SystemMessage\n",
    "from langchain_core.pydantic_v1 import BaseModel, Field\n",
    "from langchain_core.runnables import RunnableWithMessageHistory, RunnableLambda\n",
    "from langchain.tools import BaseTool, StructuredTool, tool\n",
    "from langchain_core.runnables import RunnableWithMessageHistory, ConfigurableFieldSpec\n",
    "import base64\n",
    "import json\n",
    "load_dotenv()"
   ]
  },
  {
   "cell_type": "code",
   "execution_count": 49,
   "metadata": {},
   "outputs": [],
   "source": [
    "tagging_prompt = \"\"\"\n",
    "###Objective###\n",
    "- Based on the text_content provide and appropriate tag for the text.\n",
    "\n",
    "###Rules###\n",
    "- Select as many tags as you think are appropriate for the text.\n",
    "\n",
    "###Tags###\n",
    "**WMS**\n",
    "   - **Description**: Refers to documents related to the Warehouse Management System (WMS), including setup, configuration, and operational guidance specific to warehouse management processes.\n",
    "\n",
    "**Administrative**\n",
    "   - **Description**: Covers documents focused on administrative tasks such as system configuration, user management, account management, and other setup-related activities within the WMS.\n",
    "\n",
    "**User Interface**\n",
    "   - **Description**: Includes guides and documentation related to the customization, configuration, and design of the user interface within the WMS, focusing on UI objects, templates, and screen layouts.\n",
    "\n",
    "**Operational Processes**\n",
    "   - **Description**: Pertains to documents that outline various operational tasks within the WMS, such as batch management, inbound and outbound logistics, and daily warehouse activities.\n",
    "\n",
    "**Automation**\n",
    "   - **Description**: Refers to guides detailing automated processes within the WMS, including features that enhance efficiency by reducing manual intervention, such as auto-loading trucks and automated inbound inspections.\n",
    "\n",
    "**Inbound**\n",
    "   - **Description**: Focuses on documentation related to inbound logistics processes, including the receiving, inspection, and handling of goods as they enter the warehouse.\n",
    "\n",
    "**Outbound**\n",
    "   - **Description**: Covers documents related to outbound logistics processes, such as picking, packing, and shipping goods from the warehouse, as well as related operational tasks.\n",
    "\n",
    "**Integration**\n",
    "   - **Description**: Documentation that deals with the integration of the WMS with other systems or processes, ensuring seamless operation and data flow across different platforms.\n",
    "\n",
    "**Compliance**\n",
    "   - **Description**: Documentation that addresses regulatory or compliance-related requirements within the logistics and warehouse management processes, ensuring adherence to industry standards.### **WMS**\n",
    "   - **Description**: Refers to documents related to the Warehouse Management System (WMS), including setup, configuration, and operational guidance specific to warehouse management processes.\n",
    "\n",
    "**Administrative**\n",
    "   - **Description**: Covers documents focused on administrative tasks such as system configuration, user management, account management, and other setup-related activities within the WMS.\n",
    "\n",
    "**User Interface**\n",
    "   - **Description**: Includes guides and documentation related to the customization, configuration, and design of the user interface within the WMS, focusing on UI objects, templates, and screen layouts.\n",
    "\n",
    "**Operational Processes**\n",
    "   - **Description**: Pertains to documents that outline various operational tasks within the WMS, such as batch management, inbound and outbound logistics, and daily warehouse activities.\n",
    "\n",
    "**Automation**\n",
    "   - **Description**: Refers to guides detailing automated processes within the WMS, including features that enhance efficiency by reducing manual intervention, such as auto-loading trucks and automated inbound inspections.\n",
    "\n",
    "**Inbound**\n",
    "   - **Description**: Focuses on documentation related to inbound logistics processes, including the receiving, inspection, and handling of goods as they enter the warehouse.\n",
    "\n",
    "**Outbound**\n",
    "   - **Description**: Covers documents related to outbound logistics processes, such as picking, packing, and shipping goods from the warehouse, as well as related operational tasks.\n",
    "\n",
    "**Integration**\n",
    "   - **Description**: Documentation that deals with the integration of the WMS with other systems or processes, ensuring seamless operation and data flow across different platforms.\n",
    "\n",
    "**Compliance**\n",
    "   - **Description**: Documentation that addresses regulatory or compliance-related requirements within the logistics and warehouse management processes, ensuring adherence to industry standards.\n",
    "\n",
    "`text_content`: {text_content}\n",
    "\"\"\"\n",
    "\n",
    "tagging_prompt = ChatPromptTemplate.from_template(tagging_prompt)"
   ]
  },
  {
   "cell_type": "code",
   "execution_count": 50,
   "metadata": {},
   "outputs": [],
   "source": [
    "class TaggingSchema(BaseModel):\n",
    "    explanation: str = Field(..., title=\"Explanation\", description=\"Detailed reasoning for the possible tags that fit the text content\")\n",
    "    tags: list[str] = Field(..., title=\"Tags\", description=\"Tags that are appropriate for the text content\")"
   ]
  },
  {
   "cell_type": "code",
   "execution_count": 51,
   "metadata": {},
   "outputs": [],
   "source": [
    "llm = ChatOpenAI(model=\"gpt-3.5-turbo\")"
   ]
  },
  {
   "cell_type": "code",
   "execution_count": 52,
   "metadata": {},
   "outputs": [],
   "source": [
    "structured_llm = llm.with_structured_output(TaggingSchema)"
   ]
  },
  {
   "cell_type": "code",
   "execution_count": 53,
   "metadata": {},
   "outputs": [],
   "source": [
    "tagging_chain = tagging_prompt | structured_llm"
   ]
  },
  {
   "cell_type": "code",
   "execution_count": 54,
   "metadata": {},
   "outputs": [
    {
     "name": "stdout",
     "output_type": "stream",
     "text": [
      "Processing SFTIN_WMS_Address-UserGuide.txt\n",
      "Processing SFTIN_WMS_AdhocUIDefinition-UserGuide.txt\n",
      "Processing SFTIN_WMS_AutoLoadTruckBySPN-UserGuide.txt\n",
      "Processing SFTIN_WMS_AdhocQueryParamSetup-UserGuide.txt\n",
      "Processing SFTIN_WMS_AutoHoldInboundInspection-UserGuide.txt\n",
      "Processing SFTIN_WMS_AdhocUIObject-UserGuide.txt\n",
      "Processing SFTIN_WMS_BOLType-UserGuide.txt\n",
      "Processing SFTIN_WMS_Account-UserGuide.txt\n",
      "Processing SFTIN_WMS_BatchPreference-UserGuide.txt\n",
      "Processing SFTIN_WMS_AdhocMasterTemplate-UserGuide.txt\n",
      "Processing SFTN_WMS_SecurityProfile-UserGuide.txt\n"
     ]
    }
   ],
   "source": [
    "processed_texts = {}\n",
    "\n",
    "for file, text in texts.items():\n",
    "    print(f\"Processing {file}\")\n",
    "    outputs = tagging_chain.invoke({\"text_content\": text})\n",
    "    #save a dictionary of the text and the tags for each file\n",
    "    processed_texts[file] = outputs\n"
   ]
  },
  {
   "cell_type": "code",
   "execution_count": 56,
   "metadata": {},
   "outputs": [],
   "source": [
    "json_output = {}\n",
    "for file, output in processed_texts.items():\n",
    "    json_output[file] = output.dict()"
   ]
  },
  {
   "cell_type": "code",
   "execution_count": 59,
   "metadata": {},
   "outputs": [],
   "source": [
    "output_dir = \"../data/temporary_data/file_metadata\"\n",
    "\n",
    "os.makedirs(output_dir, exist_ok=True)\n",
    "#save json file\n",
    "with open(os.path.join(output_dir, \"sample_metadata.json\"), \"w\") as f:\n",
    "    json.dump(json_output, f)"
   ]
  },
  {
   "cell_type": "code",
   "execution_count": null,
   "metadata": {},
   "outputs": [],
   "source": []
  }
 ],
 "metadata": {
  "kernelspec": {
   "display_name": "venv",
   "language": "python",
   "name": "python3"
  },
  "language_info": {
   "codemirror_mode": {
    "name": "ipython",
    "version": 3
   },
   "file_extension": ".py",
   "mimetype": "text/x-python",
   "name": "python",
   "nbconvert_exporter": "python",
   "pygments_lexer": "ipython3",
   "version": "3.11.9"
  }
 },
 "nbformat": 4,
 "nbformat_minor": 2
}
