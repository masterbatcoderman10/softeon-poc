{
 "cells": [
  {
   "cell_type": "code",
   "execution_count": 3,
   "metadata": {},
   "outputs": [],
   "source": [
    "test_image_dir = \"../data/processed_data/images/SFTN_WMS_SecurityProfile-UserGuide_page_6_image_2.png\""
   ]
  },
  {
   "cell_type": "code",
   "execution_count": 8,
   "metadata": {},
   "outputs": [],
   "source": [
    "from langchain_openai import ChatOpenAI\n",
    "import base64\n",
    "import os\n",
    "from dotenv import load_dotenv\n",
    "from langchain_core.output_parsers import StrOutputParser\n",
    "from langchain_core.prompts import ChatPromptTemplate, MessagesPlaceholder, HumanMessagePromptTemplate, AIMessagePromptTemplate, StringPromptTemplate\n",
    "from langchain_core.chat_history import BaseChatMessageHistory\n",
    "from langchain_core.messages import AIMessage, HumanMessage, SystemMessage\n",
    "from langchain_core.pydantic_v1 import BaseModel, Field\n",
    "from langchain_core.runnables import RunnableWithMessageHistory, RunnableLambda\n",
    "from langchain.tools import BaseTool, StructuredTool, tool"
   ]
  },
  {
   "cell_type": "code",
   "execution_count": 11,
   "metadata": {},
   "outputs": [],
   "source": [
    "def image_to_base64(image_path):\n",
    "  \"\"\"Converts an image to a Base64 encoded string.\n",
    "\n",
    "  Args:\n",
    "    image_path: The path to the image file.\n",
    "\n",
    "  Returns:\n",
    "    The Base64 encoded string of the image.\n",
    "  \"\"\"\n",
    "\n",
    "  with open(image_path, \"rb\") as image_file:\n",
    "    encoded_string = base64.b64encode(image_file.read())\n",
    "\n",
    "    return encoded_string.decode('utf-8') "
   ]
  },
  {
   "cell_type": "code",
   "execution_count": 9,
   "metadata": {},
   "outputs": [],
   "source": [
    "llm = ChatOpenAI(model=\"gpt-4o\")"
   ]
  },
  {
   "cell_type": "code",
   "execution_count": 12,
   "metadata": {},
   "outputs": [],
   "source": [
    "#get one image from the test_image_dir and convert to base64\n",
    "image = image_to_base64(test_image_dir)"
   ]
  },
  {
   "cell_type": "code",
   "execution_count": 15,
   "metadata": {},
   "outputs": [],
   "source": [
    "message = HumanMessage(content=[\n",
    "    {\n",
    "        \"type\" : \"text\", \n",
    "        \"text\" : \"Provide a detailed summary of the provided image.\"\n",
    "    },\n",
    "    {\n",
    "        \"type\": \"image_url\",\n",
    "        \"image_url\": {\"url\": f\"data:image/jpeg;base64,{image}\"},\n",
    "    },\n",
    "])"
   ]
  },
  {
   "cell_type": "code",
   "execution_count": 16,
   "metadata": {},
   "outputs": [],
   "source": [
    "response = llm.invoke([message])"
   ]
  },
  {
   "cell_type": "code",
   "execution_count": 17,
   "metadata": {},
   "outputs": [
    {
     "name": "stdout",
     "output_type": "stream",
     "text": [
      "The image is a screenshot of a \"Security Profile\" configuration page from a software application named Softeon. This page is used to manage user security settings and access permissions. The sections and fields on the page are as follows:\n",
      "\n",
      "### Fields and Sections:\n",
      "1. **Tabs:**\n",
      "   - User\n",
      "   - Group\n",
      "   - Advanced User Map\n",
      "   - Module Map\n",
      "   - User Access Map\n",
      "   - Menu Access\n",
      "\n",
      "2. **User Information:**\n",
      "   - **First Name:** Automation (marked as a required field with an asterisk)\n",
      "   - **Last Name:** User (marked as a required field with an asterisk)\n",
      "   - **User ID:** ATMUSER1 (marked as a required field with an asterisk)\n",
      "   - **Password:** (marked as a required field with an asterisk)\n",
      "   - **Confirm Password:** (marked as a required field with an asterisk)\n",
      "   - **Supervisor Password:** (not filled in, marked as a required field with an asterisk)\n",
      "   - **E-Mail:** (empty)\n",
      "   - **Portal/Dashboard:** -NA- (dropdown menu)\n",
      "   - **Voice User Picking Mode:** (dropdown menu)\n",
      "   - **Two Factor Auth Req:** NOT REQUIRED (dropdown menu)\n",
      "   - **User Group:** (empty)\n",
      "   - **Admin User:** Checkbox (unchecked)\n",
      "   - **RF User:** Checkbox (checked)\n",
      "   - **Login Locked:** Checkbox (unchecked)\n",
      "   - **Delete security questions:** Checkbox (unchecked)\n",
      "   - **Change password during next logon:** Checkbox (checked)\n",
      "   - **Active:** Checkbox (checked)\n",
      "\n",
      "3. **Additional Info:**\n",
      "   - **User Type:** Internal Users (dropdown menu)\n",
      "   - **User Type ID:** Internal (marked as a required field with an asterisk)\n",
      "   - **Logging Type:** P - PROCESS (dropdown menu)\n",
      "   - **Log Severity Level:** (dropdown menu, empty)\n",
      "   - **Pwd Last Upd TStamp:** 06/28/2019 00:00:00\n",
      "   - **Label Printer:** DUMMY_LABEL (dropdown menu)\n",
      "   - **Report Printer:** DUMMY_LASER (dropdown menu)\n",
      "   - **Report Directory:** (empty)\n",
      "   - **Hazmat Handling Level:** (dropdown menu, empty)\n",
      "   - **Authentication:** ReField4\n",
      "   - **External User ID:** ReField5\n",
      "\n",
      "4. **Buttons:**\n",
      "   - **Submit:** Green button\n",
      "   - **Delete:** Red button\n",
      "   - **Reset:** Grey button\n",
      "   - **Find:** Green button\n",
      "   - **Refresh:** Green button\n",
      "   - **Security Questions:** Green button\n",
      "   - **Copy From:** Green button\n",
      "\n",
      "5. **Top Navigation:**\n",
      "   - Search menu...\n",
      "   - Icons for home, reload, help, settings, and user information or profile.\n",
      "\n",
      "### Summary:\n",
      "The page is designed to handle user account details and permissions within the Softeon software. It includes fields for personal information, user credentials, security settings, and additional information pertinent to the user's role and access levels. Various checkboxes and dropdown menus allow for customization of the user’s access and security settings. The page features several action buttons for submitting, deleting, resetting, and managing user information.\n"
     ]
    }
   ],
   "source": [
    "print(response.content)"
   ]
  },
  {
   "cell_type": "code",
   "execution_count": null,
   "metadata": {},
   "outputs": [],
   "source": [
    "#a function that takes in an image path, converts it to base64 and returns the response from the model\n",
    "def get_image_summary(image_path):\n",
    "    image = image_to_base64(image_path)\n",
    "    message = HumanMessage(content=[\n",
    "        {\n",
    "            \"type\" : \"text\", \n",
    "            \"text\" : \"Provide a detailed summary of the provided image.\"\n",
    "        },\n",
    "        {\n",
    "            \"type\": \"image_url\",\n",
    "            \"image_url\": {\"url\": f\"data:image/jpeg;base64,{image}\"},\n",
    "        },\n",
    "    ])\n",
    "\n",
    "    response = llm.invoke([message])\n",
    "\n",
    "    return response.content"
   ]
  }
 ],
 "metadata": {
  "kernelspec": {
   "display_name": "venv",
   "language": "python",
   "name": "python3"
  },
  "language_info": {
   "codemirror_mode": {
    "name": "ipython",
    "version": 3
   },
   "file_extension": ".py",
   "mimetype": "text/x-python",
   "name": "python",
   "nbconvert_exporter": "python",
   "pygments_lexer": "ipython3",
   "version": "3.11.9"
  }
 },
 "nbformat": 4,
 "nbformat_minor": 2
}
