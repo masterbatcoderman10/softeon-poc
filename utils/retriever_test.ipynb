{
 "cells": [
  {
   "cell_type": "code",
   "execution_count": 1,
   "metadata": {},
   "outputs": [],
   "source": [
    "# this file will be used to load the data from the processed_data directory into the chroma database\n",
    "import chromadb\n",
    "from langchain_openai import ChatOpenAI\n",
    "from langchain.retrievers.self_query.base import SelfQueryRetriever\n",
    "from langchain.chains.query_constructor.base import AttributeInfo\n",
    "from langchain_chroma import Chroma\n",
    "from langchain.storage import LocalFileStore\n",
    "from langchain_text_splitters import RecursiveCharacterTextSplitter\n",
    "from langchain_openai import OpenAIEmbeddings\n",
    "from langchain.retrievers.multi_vector import MultiVectorRetriever\n",
    "from langchain_community.document_loaders import TextLoader\n",
    "from langchain_core.documents import Document\n",
    "import uuid\n",
    "import os\n",
    "from dotenv import load_dotenv\n",
    "load_dotenv()\n",
    "\n",
    "\n",
    "CHROMA_PATH = \"../data/db/chroma\"\n",
    "DOCSTORE_PATH = \"../data/db/docstore\"\n",
    "\n",
    "os.makedirs(CHROMA_PATH, exist_ok=True)\n",
    "\n",
    "# chroma DB\n",
    "client = chromadb.PersistentClient(CHROMA_PATH)\n",
    "# vector_store = Chroma(\n",
    "#     client=client,\n",
    "#     embedding_function=OpenAIEmbeddings(),\n",
    "#     collection_name=\"softeon\"\n",
    "# )\n",
    "\n",
    "# # document store\n",
    "# docstore = LocalFileStore(DOCSTORE_PATH)\n",
    "# # basically what the metadata key for the ID of the document will be called\n",
    "# id_key = \"doc_id\"\n",
    "\n",
    "# # multi vector retriever\n",
    "# retriever = MultiVectorRetriever(\n",
    "#     vectorstore=vector_store,\n",
    "#     docstore=docstore,\n",
    "#     id_key=id_key\n",
    "# )"
   ]
  },
  {
   "cell_type": "code",
   "execution_count": 2,
   "metadata": {},
   "outputs": [],
   "source": [
    "#Self-Query Retreiver\n",
    "self_query_store = Chroma(\n",
    "    client=client,\n",
    "    embedding_function=OpenAIEmbeddings(model=\"text-embedding-3-large\"),\n",
    "    collection_name=\"softeon_metadata_v3\"\n",
    ")\n",
    "\n",
    "metadata_field_info = [\n",
    "    AttributeInfo(\n",
    "        name=\"file_name\",\n",
    "        description=\"The name of the file. You must only use this attribute if the filename is mentioned fully by the user in the query.\",\n",
    "        type=\"string\",\n",
    "    ),\n",
    "    AttributeInfo(\n",
    "        name=\"tag\",\n",
    "        description=\"The tag that is most appropriate for the text content. Please use the tags exactly as shown. One of the following: [WMS, Administrative, User Interface, Operational Processes, Automation, Inbound, Outbound, Integration, Compliance]\",\n",
    "        type=\"string\",\n",
    "    ),\n",
    "    AttributeInfo(\n",
    "        name=\"file_type\",\n",
    "        description=\"The type of the file. One of the following: [text, image]. `image` refers to the screens of the application.\",\n",
    "        type=\"string\",\n",
    "    ),\n",
    "    AttributeInfo(\n",
    "        name=\"page_number\",\n",
    "        description=\"The page number of the document. Please use this attribute only if the page number is mentioned in the query.\",\n",
    "        type=\"int\",\n",
    "    ),\n",
    "    AttributeInfo(\n",
    "        name=\"image_number\",\n",
    "        description=\"The image number of the document. Please use this attribute only if the image number is mentioned in the query and only for image `file_type`.\",\n",
    "        type=\"int\",\n",
    "    ),\n",
    "]\n",
    "\n",
    "document_content_description = \"The documents contain information about a warehouse management system called Softeon.\"\n",
    "\n",
    "llm = ChatOpenAI(model=\"gpt-4o-2024-08-06\")"
   ]
  },
  {
   "cell_type": "code",
   "execution_count": 30,
   "metadata": {},
   "outputs": [],
   "source": [
    "self_query_retriever = SelfQueryRetriever.from_llm(\n",
    "    llm=llm,\n",
    "    vectorstore=self_query_store,\n",
    "    document_contents=document_content_description,\n",
    "    metadata_field_info=metadata_field_info,\n",
    "    search_kwargs={\"k\": 10},\n",
    ")"
   ]
  },
  {
   "cell_type": "code",
   "execution_count": 2,
   "metadata": {},
   "outputs": [],
   "source": [
    "def plt_img_base64(img_base64):\n",
    "    \"\"\"Disply base64 encoded string as image\"\"\"\n",
    "    # Create an HTML img tag with the base64 string as the source\n",
    "    image_html = f'<img src=\"data:image/jpeg;base64,{img_base64}\" />'\n",
    "    # Display the image by rendering the HTML\n",
    "    display(HTML(image_html))"
   ]
  },
  {
   "cell_type": "code",
   "execution_count": null,
   "metadata": {},
   "outputs": [],
   "source": [
    "query = \"How to create new user\"\n",
    "docs = retriever.invoke(input=\"How to create a new user\", limit=10)"
   ]
  },
  {
   "cell_type": "code",
   "execution_count": 3,
   "metadata": {},
   "outputs": [],
   "source": [
    "query = \"How to create new user\"\n",
    "docs = self_query_retriever.invoke(input=query, limit=10)"
   ]
  },
  {
   "cell_type": "code",
   "execution_count": 4,
   "metadata": {},
   "outputs": [
    {
     "data": {
      "text/plain": [
       "[Document(metadata={'file_name': 'SFTN_WMS_SecurityProfile-UserGuide.txt', 'file_type': 'image', 'image_number': 2, 'page_number': 8, 'tag': 'Administrative'}, page_content='The provided image is a screenshot of a user interface from a software application named Softeon. The screen appears to be for copying user details or creating a new user based on an existing one.\\n\\nHere is a detailed breakdown of the elements in the image:\\n\\n1. **Title and Branding**:\\n   - The top-left corner features the Softeon logo.\\n   - The title of the screen is \"Copy From User\".\\n\\n2. **User Information Section**:\\n   - This section contains fields for entering user details.\\n   - **User ID**: Already populated with \"ATMUSER1\".\\n   - **User Name**: Populated with \"Automation User\".\\n   - **User Group**: Populated with \"S7UG1\".\\n\\n3. **Input Fields**:\\n   - **First Name**: An empty text field marked with a red asterisk, indicating it is required.\\n   - **Last Name**: An empty text field marked with a red asterisk, indicating it is required.\\n   - **Password**: An empty text field marked with a red asterisk, indicating it is required.\\n   - **Confirm Password**: An empty text field marked with a red asterisk, indicating it is required.\\n   - **User ID**: An empty text field marked with a green asterisk, indicating it is required.\\n\\n4. **Buttons**:\\n   - **Submit**: A green button, highlighted with a red border.\\n   - **Reset**: A blue button.\\n   - **Delete**: A gray button.\\n   - **Back**: A blue button.\\n\\n5. **Table at the Bottom**:\\n   - Below the form, there is a table with headers labeled \"First Name\", \"Last Name\", and \"User ID\". The table is currently empty.\\n\\n6. **Color Coding**:\\n   - Required fields are indicated with asterisks, with some fields having red asterisks and one field (User ID) having a green asterisk.\\n   - The button colors and the highlighting with a red border around the \"Submit\" button suggest particular emphasis or action needed there.\\n\\nThe interface seems to be designed for administrative tasks related to user management, such as creating or copying user profiles, and it includes validation indicators for required fields.'),\n",
       " Document(metadata={'file_name': 'SFTN_WMS_SecurityProfile-UserGuide.txt', 'file_type': 'image', 'image_number': 2, 'page_number': 6, 'tag': 'User Interface'}, page_content='The provided image is a screenshot of a user interface for managing a security profile in a software application named Softeon. The interface is organized into several tabs and fields for detailed user management.\\n\\n### Tabs\\n- **User**: The current tab selected.\\n- Group\\n- Advanced User Map\\n- Module Map\\n- User Access Map\\n- Menu Access\\n\\n### Fields\\n- **First Name**: The first name of the user is \"Automation\".\\n- **Last Name**: The last name of the user is \"User\".\\n- **User ID**: The user ID is \"ATMUSER1\".\\n- **Password**: A field for entering the user\\'s password.\\n- **Confirm Password**: A field for confirming the user\\'s password.\\n- **Supervisor Password**: A field for entering a supervisor password (masked).\\n- **E-Mail**: An empty field for entering the user\\'s email.\\n- **Portal/Dashboard**: The value is set to \"-NA-\".\\n- **Voice User Picking Mode**: A dropdown field, not selected.\\n- **Two Factor Auth Req**: Set to \"NOT REQUIRED\".\\n- **User Group**: An empty field.\\n- **Admin User**: A checkbox that is not checked.\\n- **RF User**: A checkbox that is checked.\\n- **Login Locked**: A checkbox that is not checked.\\n- **Delete security questions**: A checkbox that is not checked.\\n- **Change password during next logon**: A checkbox that is checked.\\n- **Active**: A checkbox that is checked.\\n\\n### Additional Info Section\\n- **User Type**: Set to \"Internal Users\".\\n- **User Type ID**: Set to \"Internal\".\\n- **Logging Type**: Set to \"P - PROCESS\".\\n- **Log Severity Level**: A dropdown, not selected.\\n- **Pwd Last Upd TStamp**: \"06/28/2019 00:00:00\".\\n- **Label Printer**: Set to \"DUMMY_LABEL\".\\n- **Report Printer**: Set to \"DUMMY_LASER\".\\n- **Report Directory**: An empty field.\\n- **Hazmat Handling Level**: An empty field.\\n- **Authentication**: An empty field.\\n- **External User ID**: An empty field.\\n\\n### Buttons\\n- **Submit**: For submitting the form.\\n- **Delete**: For deleting the user.\\n- **Reset**: For resetting the form.\\n- **Find**: For searching users.\\n- **Refresh**: For refreshing the form.\\n- **Security Questions**: For managing security questions.\\n- **Copy From**: For copying settings from another user.\\n\\n### Miscellaneous\\n- **Search menu...**: A search bar located at the top right.\\n- **Softeon Logo**: Displayed at the top right corner.\\n\\nThe interface is designed for detailed user profile management, including personal information, security settings, and additional configuration options.'),\n",
       " Document(metadata={'file_name': 'SFTN_WMS_SecurityProfile-UserGuide.txt', 'file_type': 'image', 'image_number': 3, 'page_number': 8, 'tag': 'Administrative'}, page_content='The provided image is a screenshot of a \"Security Profile\" user management interface, likely from a software application named \"Softeon.\" The interface is designed to manage user details and security settings.\\n\\n### Interface Layout:\\n\\n1. **Header:**\\n   - Contains tabs labeled: \"User,\" \"Group,\" \"Advanced User Map,\" \"Module Map,\" \"User Access Map,\" and \"Menu Access.\"\\n   - A search bar is located in the upper-right corner.\\n   - The Softeon logo is displayed in the upper-right corner.\\n\\n2. **User Detail Form:**\\n   - **Fields:**\\n     - First Name: \"Automation\"\\n     - Last Name: \"User\"\\n     - User ID: \"ATMUSER1\"\\n     - Password and Confirm Password fields (both are filled but not visible)\\n     - Supervisor Password (filled but not visible)\\n     - E-Mail: (empty)\\n     - Portal/Dashboard: \"-NA-\"\\n     - Voice User Picking Mode: (dropdown, currently empty)\\n     - Two Factor Auth Req: \"NOT REQUIRED\"\\n     - User Group: \"S7UG1\"\\n   - **Checkboxes:**\\n     - Admin User: (unchecked)\\n     - RF User: (unchecked)\\n     - Login Locked: (checked)\\n     - Delete security questions: (unchecked)\\n     - Change password during next logon: (checked)\\n     - Active: (checked)\\n   - **Buttons:**\\n     - Submit, Delete, Reset, Find, Refresh, Security Questions, Copy From\\n\\n3. **User List Table:**\\n   - **Columns:**\\n     - User ID\\n     - User Name\\n     - User Type\\n     - User Type ID\\n     - User Group\\n     - Picking Mode\\n     - Report Printer\\n     - Label Printer\\n     - Status\\n   - **Highlighted Row:**\\n     - User ID: \"ATMUSER1\"\\n     - User Name: \"Automation User\"\\n     - User Type: \"Internal Users\"\\n     - User Type ID: \"Internal\"\\n     - User Group: \"S7UG1\"\\n     - Picking Mode: (not specified)\\n     - Report Printer: \"DUMMY_LASER\"\\n     - Label Printer: \"DUMMY_LABEL\"\\n     - Status: \"Active\"\\n\\n### Key Actions:\\n- The user can manage user profiles by adding, editing, deleting, and searching for users.\\n- The \"Submit\" button is highlighted, indicating a possible pending action.\\n- The \"Login Locked\" checkbox is checked for the user \"ATMUSER1,\" suggesting that this user\\'s login is currently locked.\\n\\n### Additional Features:\\n- The interface allows for additional configuration for each user, including assigning roles, setting up two-factor authentication, and linking to printers.\\n- The user list provides a quick overview of all users and their statuses, making it easier to manage multiple users.\\n\\nThis interface is typically used by administrators to manage security profiles within a software application, ensuring users have the appropriate access and roles.'),\n",
       " Document(metadata={'file_name': 'SFTN_WMS_SecurityProfile-UserGuide.txt', 'file_type': 'image', 'image_number': 3, 'page_number': 7, 'tag': 'User Interface'}, page_content='The image displays a user interface from a software application named Softeon, specifically from the \"Security Profile\" section. Here is a detailed breakdown of the interface:\\n\\n### Header\\n- **Logo and Application Name**: \"Softeon\" is displayed at the top left.\\n- **Search Bar**: A search menu bar is available at the top right.\\n- **Icons**: Icons for different functionalities such as search, settings, help, and user profile are present next to the search bar.\\n\\n### Navigation Tabs\\n- **Tabs**: The interface contains several tabs for different sections including:\\n  - User\\n  - Group\\n  - Advanced User Map\\n  - Module Map\\n  - User Access Map\\n  - Menu Access\\n\\n### Main Section (User Tab Selected)\\n#### Form Fields\\n- **First Name**: Entered as \"Automation\".\\n- **Last Name**: Entered as \"User\".\\n- **User ID**: Entered as \"ATMUSER1\".\\n- **Password**: An input field for the password.\\n- **Confirm Password**: An input field to confirm the password.\\n- **Supervisor Password**: A required field.\\n- **E-Mail**: An empty input field.\\n- **Portal/Dashboard**: Dropdown selected as \"-NA-\".\\n- **Voice User Picking Mode**: A checkbox.\\n- **Two Factor Auth Req**: Dropdown selected as \"NOT REQUIRED\".\\n- **User Group**: Dropdown selected as \"S7UG1\".\\n\\n#### Checkboxes\\n- **Admin User**: Unchecked.\\n- **RF User**: Checked.\\n- **Login Locked**: Unchecked.\\n- **Delete security questions**: Unchecked.\\n- **Change password during next logon**: Checked.\\n- **Active**: Checked.\\n\\n#### Buttons\\n- **Submit**\\n- **Delete**\\n- **Reset**\\n- **Find**\\n- **Refresh**\\n- **Security Questions**\\n- **Copy From** (Highlighted with a red rectangle)\\n\\n### Additional Info\\n- **Additional Info**: A section to add extra information.\\n\\n### User List Table\\n- **Columns**:\\n  - User ID\\n  - User Name\\n  - User Type\\n  - User Type ID\\n  - User Group\\n  - Picking Mode\\n  - Report Printer\\n  - Label Printer\\n  - Status\\n\\n- **Highlighted Row**: The row for the user \"ATMUSER1\" is highlighted.\\n  - **User ID**: ATMUSER1\\n  - **User Name**: Automation User\\n  - **User Type**: Internal Users\\n  - **User Type ID**: Internal\\n  - **User Group**: S7UG1\\n  - **Picking Mode**: DUMMY_LASER\\n  - **Report Printer**: DUMMY_LASER\\n  - **Label Printer**: DUMMY_LABEL\\n  - **Status**: Active\\n\\nThe entire interface is designed to manage user profiles, including creating, editing, and viewing user details and access permissions.')]"
      ]
     },
     "execution_count": 4,
     "metadata": {},
     "output_type": "execute_result"
    }
   ],
   "source": [
    "docs"
   ]
  },
  {
   "cell_type": "code",
   "execution_count": 5,
   "metadata": {},
   "outputs": [],
   "source": [
    "q2 = \"What are some administrative tasks that can be performed in the WMS software?\"\n",
    "docs2 = self_query_retriever.invoke(input=q2, limit=5)"
   ]
  },
  {
   "cell_type": "code",
   "execution_count": 6,
   "metadata": {},
   "outputs": [
    {
     "data": {
      "text/plain": [
       "[Document(metadata={'file_name': 'SFTN_WMS_SecurityProfile-UserGuide.txt', 'file_type': 'image', 'image_number': 2, 'page_number': 16, 'tag': 'WMS'}, page_content='The image displays a screenshot of a \"Security Profile\" interface from a software application named \"Softeon.\" The interface appears to be used for managing user access within a warehouse management system (WMS). Here’s a detailed summary:\\n\\n### Interface Components:\\n1. **Navigation Tabs:**\\n   - \"User\"\\n   - \"Group\"\\n   - \"Advanced User Map\"\\n   - \"Module Map\"\\n   - \"User Access Map\"\\n   - \"Menu Access\"\\n\\n2. **Filters and Fields:**\\n   - **Organization (ORG1)**\\n   - **App ID (WMS)**\\n   - **Warehouse (WH1)**\\n   - **Bldg ID** (Building ID)\\n   - **User Group (ADM)**\\n   - **Business Unit**\\n   - **User ID**\\n\\n3. **Buttons:**\\n   - **Submit** (highlighted with a red border)\\n   - **Reset**\\n   - **Find**\\n   - **Refresh**\\n   - **Copy**\\n\\n4. **Table:**\\n   - Contains columns for:\\n     - **App ID**\\n     - **Warehouse ID**\\n     - **Bldg ID**\\n     - **Business Unit**\\n\\n   - Multiple rows are listed with the following details:\\n     - App ID: All entries are \"WMS.\"\\n     - Warehouse ID: All entries are \"WH1.\"\\n     - Bldg ID: Values include \"AED,\" \"B1,\" \"B2,\" etc.\\n     - Business Unit: Values include \"AED,\" \"01,\" \"02,\" \"03,\" etc.\\n   - Checkbox column on the left with some checkboxes selected and others unselected.\\n\\n### Additional Interface Elements:\\n- **Search Menu:** Located at the top right, allowing users to search through the menu.\\n- **Icons:** \\n  - Search icon (magnifying glass)\\n  - Undo/redo icons\\n  - Help icon (question mark)\\n  - User settings icon\\n  - Logout icon\\n\\n### Branding:\\n- The Softeon logo is displayed at the top left corner.\\n\\n### Summary:\\nThis interface is used to define and manage security profiles for users within the Softeon WMS application. It allows administrators to assign access rights based on various criteria, such as application ID, warehouse ID, building ID, and business unit. The table provides an overview of current access settings, and the checkboxes allow for easy selection and modification of these settings. The submit button is prominently highlighted, indicating its importance for confirming changes made on this interface.'),\n",
       " Document(metadata={'file_name': 'SFTIN_WMS_AutoLoadTruckBySPN-UserGuide.txt', 'file_type': 'image', 'image_number': 3, 'page_number': 4, 'tag': 'WMS'}, page_content='The image is a screenshot of an application interface titled \"Auto Load Truck By SPN\" from Softeon. It appears to be a logistics or warehouse management system where users can manage truck loads by SPN (Serial Number).\\n\\n### Breakdown of the Interface:\\n\\n#### Header:\\n- **Softeon Logo**: Appears at the top left, with the tagline \"LIMITLESS DELIVERED.\"\\n- **Title**: \"Auto Load Truck By SPN\" is prominently displayed.\\n- **User Information**: The user \"SFTADMIN\" is logged in, indicated at the top right.\\n\\n#### Search and Input Fields:\\n- **Truck Ref No**: A field labeled \"Truck Ref No\" with the number \"144\" entered.\\n- **Loaded By**: An empty input field labeled \"Loaded By.\"\\n- **Tare Weight**: An empty input field labeled \"Tare Weight.\"\\n- **Include Loaded SPNs**: A checkbox labeled \"Include Loaded SPNs\" which is not checked.\\n\\n#### Action Buttons:\\n- **QUERY**: A button to query data.\\n- **SAVE**: A button to save data.\\n- **RESET**: A button to reset the input fields.\\n- **REFRESH**: A button to refresh the data.\\n\\n#### Data Table:\\nThe table displays several columns with corresponding data:\\n- **Checkbox**: Each row has a checkbox, presumably for selection.\\n- **SPN #**: Serial numbers listed as 60000210, 60000211, 60000212.\\n- **Master LPN No**: Numbers listed as 1403, 1404, 1402.\\n- **Order Group**: Numbers listed as 0196-0006 - 0196-0006, 0196-9001 - 0196-9001, 0019-0007 - 0019-0007.\\n- **Customer**: The field appears to repeat the Order Group numbers.\\n- **City**: All entries are listed as \"CHERAW.\"\\n- **State**: All entries are listed as \"SC,\" indicating South Carolina.\\n- **Order Group Status**: All entries show \"70 - Pick Completed.\"\\n- **Master LPN Status**: All entries show \"70 - Pick Completed.\"\\n- **SPN Status**: All entries show \"10 - CLO...\" (the rest is truncated).\\n\\n#### Navigation and Alerts:\\n- **Navigation Icons**: Icons for notifications, alerts, and help are present next to the user information.\\n  \\nThe table rows are highlighted in green, which might indicate a specific status or selection. The interface allows for managing and tracking the loading status of trucks based on their SPN numbers.'),\n",
       " Document(metadata={'file_name': 'SFTIN_WMS_AdhocQueryParamSetup-UserGuide.txt', 'file_type': 'image', 'image_number': 2, 'page_number': 5, 'tag': 'WMS'}, page_content='The image is a screenshot of a software application interface titled \"Adhoc Query Param Setup\" from Softeon. The interface is designed for setting up and managing parameters for ad-hoc queries.\\n\\n### Key Components:\\n\\n1. **Header:**\\n   - The top section contains the Softeon logo and the title \"Adhoc Query Param Setup.\"\\n   - The current user is identified as \"SFTADMIN\" in the top right corner.\\n\\n2. **Form Fields:**\\n   - **Warehouse ID:** WH1\\n   - **Query ID:** 1001\\n   - **Definition ID:** D30604035614\\n   - **Object ID:** 20130604035614555\\n   - **Param Caption:** From Date\\n   - **Seq No:** 1\\n   - **Default Value:** (Empty)\\n   - **Param Group ID:** (Empty)\\n   - **SQL Placeholder Value:** `AND TRUNC(RR.CREATE_TSTAMP) >= TO_DATE(?,\\'MM/DD/YYYY\\')`\\n   - **SQL Placeholder Expr:** `$1`\\n\\n3. **Control Fields:**\\n   - **Show Filter:** (Checkbox, unchecked)\\n   - **Mandatory Flag:** (Checkbox, unchecked)\\n   - **Enable Flag:** (Checkbox, unchecked)\\n   - **Param Group Flag:** (Checkbox, unchecked)\\n   - **Active:** (Checkbox, checked)\\n\\n4. **Action Buttons:**\\n   - **Submit:** The primary action button, highlighted with a red border.\\n   - **Delete**\\n   - **Reset**\\n   - **Find**\\n   - **Refresh**\\n\\n5. **Table Display:**\\n   - Displays the first 999 records with columns: Query ID, Seq No, Param Caption, Definition ID, Object ID, Mandatory Flag, Enable Flag, and Status.\\n   - The first two rows are populated with data:\\n     - **Row 1:**\\n       - Query ID: 1001\\n       - Seq No: 1\\n       - Param Caption: From Date\\n       - Definition ID: D30604035614\\n       - Object ID: 20130604035614555\\n       - Mandatory Flag: No\\n       - Enable Flag: No\\n       - Status: Active (highlighted in green)\\n     - **Row 2:**\\n       - Query ID: 1001\\n       - Seq No: 2\\n       - Param Caption: To Date\\n       - Definition ID: D30604035614\\n       - Object ID: 20130604035614563\\n       - Mandatory Flag: No\\n       - Enable Flag: No\\n       - Status: Active (highlighted in green)\\n\\n6. **Icons:**\\n   - Magnifying glass icon (likely for search)\\n   - Warning icon (likely for alerts or notifications)\\n   - Help icon (likely for assistance or user guide)\\n\\nOverall, the interface is used to configure parameters for an ad-hoc query within a warehouse management system, allowing the user to set and modify various attributes and SQL expressions related to the query.'),\n",
       " Document(metadata={'file_name': 'SFTIN_WMS_BOLType-UserGuide.txt', 'file_type': 'image', 'image_number': 3, 'page_number': 4, 'tag': 'WMS'}, page_content='The image is a screenshot of a web application interface related to managing Bill of Lading (BOL) types, provided by Softeon.\\n\\n- **Header Section**:\\n  - The top left has the Softeon logo with the tagline \"Limitless Delivered\".\\n  - The title \"BOL Type\" is displayed prominently.\\n  - On the top right, there are several icons: a search icon, a reset icon, an alert icon, a help icon, and a user profile dropdown showing \"SFTADMIN\".\\n\\n- **Input Form Section**:\\n  - There are fields to input the following:\\n    - **BOL Type**: A text box with \"C\" entered.\\n    - **BOL TypeDesc**: A text box with \"COLLECT\" entered.\\n    - **Freight Type**: A dropdown menu with \"C - Collect\" selected.\\n    - **Address**: A text area for entering an address (currently empty).\\n    - An \"Active\" checkbox, which is checked.\\n  - Below the input fields, there are action buttons: \"Submit\", \"Delete\", \"Find\", \"Reset\", and \"Refresh\".\\n\\n- **Data Table Section**:\\n  - Displays existing BOL types in a table format.\\n  - Columns include \"BOL Type\", \"BOL TypeDesc\", \"Address ID\", \"Address\", \"Freight Type\", and \"Status\".\\n  - The table has one entry with the following details:\\n    - **BOL Type**: C\\n    - **BOL TypeDesc**: COLLECT\\n    - **Address ID**: (empty)\\n    - **Address**: (empty)\\n    - **Freight Type**: C\\n    - **Status**: Active\\n\\n- **Styling**:\\n  - The input form section has a white background.\\n  - The data table has alternating blue and green row colors for differentiation.\\n  - The action buttons are blue with white text.')]"
      ]
     },
     "execution_count": 6,
     "metadata": {},
     "output_type": "execute_result"
    }
   ],
   "source": [
    "docs2"
   ]
  },
  {
   "cell_type": "code",
   "execution_count": 31,
   "metadata": {},
   "outputs": [],
   "source": [
    "q3 = \"Summarize the document: SFTIN_WMS_AdhocMasterTemplate-UserGuide.txt\"\n",
    "docs3 = self_query_retriever.invoke(input=q3)"
   ]
  },
  {
   "cell_type": "code",
   "execution_count": 32,
   "metadata": {},
   "outputs": [
    {
     "data": {
      "text/plain": [
       "[Document(metadata={'file_name': 'SFTIN_WMS_AdhocMasterTemplate-UserGuide.txt', 'file_type': 'image', 'image_number': 3, 'page_number': 1, 'tag': 'Operational Processes'}, page_content='The image depicts a scene from a warehouse. A worker, who is wearing a hard hat and a high-visibility safety vest, is seen from the back as they operate a manual pallet jack. The worker appears to be moving through a narrow aisle lined with tall shelves stacked with various items, suggesting an organized storage system. The background is blurred, giving a sense of motion and speed, indicating that the worker is actively moving through the aisle. The perspective and the blur effect emphasize the depth and scale of the warehouse. The overall scene portrays a dynamic and industrious environment, typical of a logistics or storage facility.'),\n",
       " Document(metadata={'file_name': 'SFTIN_WMS_AdhocMasterTemplate-UserGuide.txt', 'file_type': 'image', 'image_number': 4, 'page_number': 1, 'tag': 'Operational Processes'}, page_content='The image depicts a large, well-organized warehouse interior. The warehouse features tall, multi-level shelves that stretch from the floor to the ceiling, filled with various types of boxed and palletized goods. The shelves are arranged in long, parallel rows, creating aisles that facilitate easy access and navigation.\\n\\nThe perspective of the image is from a low angle, close to the ground, which emphasizes the height of the shelves and the vastness of the space. The floor is polished and reflects the overhead lighting, suggesting that the warehouse is clean and well-maintained.\\n\\nThe ceiling is equipped with numerous industrial light fixtures, providing ample illumination throughout the space. There are also visible pipes and ducts running along the ceiling, indicating the presence of necessary infrastructure for warehouse operations.\\n\\nOverall, the image conveys an impression of efficiency, organization, and readiness for large-scale storage and distribution.'),\n",
       " Document(metadata={'file_name': 'SFTIN_WMS_AdhocMasterTemplate-UserGuide.txt', 'file_type': 'image', 'image_number': 2, 'page_number': 6, 'tag': 'User Interface'}, page_content='The image is a screenshot of a web-based application interface titled \"Adhoc Master Template\" developed by Softeon. The interface is designed for managing SKU (Stock Keeping Unit) profiles and their associated attributes.\\n\\n### Top Section:\\n- **Template ID:** SKU_PROFILE\\n- **Field Name:** RETURNS_ALLOWED_FLAG\\n- **Object ID:** SKU_RETURNS_ALLOWED_FLAG\\n- **Field Caption:** lblreturnsallowedflag\\n- **Definition ID:** SKU_MASTER\\n- **Code Type:** (empty)\\n- **Default Value:** N\\n- **Key Handler:** AcceptChars\\n- **Validation Message:** (empty)\\n- **Validation Query:** (empty)\\n- **Sort Seq No:** 0\\n- **Display Align:** (dropdown with \"left\" selected)\\n- **Display Width:** 0\\n- **Control Fields:**\\n  - GUI Flag (unchecked)\\n  - Display Flag (checked)\\n  - Upper Case (unchecked)\\n  - Search Flag (unchecked)\\n  - Mandatory Flag (unchecked)\\n  - Auto Focus (unchecked)\\n  - Active (checked)\\n\\n### Buttons:\\n- **Submit:** To save changes.\\n- **Delete:** To delete the entry.\\n- **Reset:** To clear the form.\\n- **Find:** To search for entries.\\n- **Refresh:** To refresh the page.\\n\\n### Bottom Section (Table):\\nA table listing existing fields for the SKU_PROFILE template.\\n- **Template ID:** SKU_PROFILE\\n- **Field Name:** Different field names relevant to SKU profile such as RET_INSTRUCTIONS, RET_DISP_OVERRIDE_FLAG, RET_DESTINATION_CODE, RETURNS_CUTOFF_DATE, RETURNS_ALLOWED_FLAG.\\n- **Field Caption:** Corresponding field captions.\\n- **Object ID:** Different object IDs like SKU_RET_INSTRUCTIONS, RET_DISP_OVERRIDE_FLAG, SKU_RET_DESTINATION_CODE, SKU_RETURNS_CUTOFF_DATE, SKU_RETURNS_ALLOWED_FLAG.\\n- **Definition ID:** SKU_MASTER for all entries.\\n- **Status:** All entries marked as Active.\\n\\n### Header:\\n- **Logo:** Softeon logo with the tagline \"LIMITLESS DELIVERED\".\\n- **User:** Logged in as SFTADMIN.\\n- **Icons:** Search, Warning, Help.\\n\\nThe interface appears to be part of a larger system for managing SKU attributes, allowing users to configure and maintain various settings related to SKUs.'),\n",
       " Document(metadata={'file_name': 'SFTIN_WMS_AdhocMasterTemplate-UserGuide.txt', 'file_type': 'image', 'image_number': 3, 'page_number': 4, 'tag': 'User Interface'}, page_content='The image shows a screen capture of a web-based form titled \"Adhoc Master Template\" from a software application by Softeon. The form appears to be used for setting up or editing a template related to SKU (Stock Keeping Unit) profiles.\\n\\nKey elements of the form include:\\n\\n1. **Template ID**:\\n   - Label: Template ID\\n   - Value: SKU_PROFILE\\n   - Asterisk indicates this is a required field.\\n\\n2. **Object ID**:\\n   - Label: Object ID\\n   - Value: SKU_RETURNS_ALLOWED_FLAG\\n   - Asterisk indicates this is a required field.\\n\\n3. **Field Name**:\\n   - Label: Field Name\\n   - Value: RETURNS_ALLOWED_FLAG\\n   - Asterisk indicates this is a required field.\\n\\n4. **Field Caption**:\\n   - Label: Field Caption\\n   - Value: lblreturnsallowedflag\\n   - Asterisk indicates this is a required field.\\n\\n5. **Definition ID**:\\n   - Label: Definition ID\\n   - Value: SKU_MASTER\\n   - Asterisk indicates this is a required field.\\n\\n6. **Default Value**: An empty field where the default value for the template can be entered.\\n\\n7. **Sort Seq No**: An empty field for entering the sort sequence number.\\n\\n8. **Display Align**: A dropdown menu set to \"Left\" to determine the alignment of the display.\\n\\n9. **Display Width**: An empty field for specifying the width of the display.\\n\\n10. **Validation Message**: An empty field for entering a validation message.\\n\\n11. **Key Handler**: An empty field for specifying a key handler.\\n\\n12. **Validation Query**: An empty field for entering a validation query.\\n\\n13. **Code Type**: An empty field for specifying the code type.\\n\\n14. **Control Fields**: Various checkboxes including:\\n    - GUI Flag\\n    - Display Flag (checked)\\n    - Upper Case\\n    - Search Flag\\n    - Mandatory Flag\\n    - Auto Focus\\n    - Active (checked)\\n\\n15. **Action Buttons**:\\n    - Submit\\n    - Delete\\n    - Reset\\n    - Find\\n    - Refresh\\n\\n16. **Navigation and User Interface Elements**:\\n    - Search icon\\n    - History icon\\n    - Alert icon\\n    - Help icon\\n    - User dropdown labeled \"SFTADMIN\"\\n\\nThe form appears to be part of a system for managing SKU profiles, allowing users to input and configure various settings related to SKU attributes.'),\n",
       " Document(metadata={'file_name': 'SFTIN_WMS_AdhocMasterTemplate-UserGuide.txt', 'file_type': 'image', 'image_number': 1, 'page_number': 1, 'tag': 'Design'}, page_content='The provided image is a repetitive geometric pattern consisting of white shapes on a black background. Each unit in the pattern is composed of a series of elements:\\n\\n1. **Circle**: A white circle is positioned at the top left of each unit.\\n2. **Quarter Circle**: Below the circle, there is a quarter circle with the curved side facing outwards.\\n3. **Rectangular Shapes**: The remaining part of the unit is filled with rectangular shapes that fit around the circle and quarter circle, creating a cohesive design.\\n\\nThe pattern is organized in a grid format, with each unit repeated both horizontally and vertically, forming a seamless, continuous design.'),\n",
       " Document(metadata={'file_name': 'SFTIN_WMS_AdhocMasterTemplate-UserGuide.txt', 'file_type': 'text', 'tag': 'User Interface'}, page_content='SOFTEON, INC. \\n11700 Plaza America Dr., Suite 910 \\nReston, Virginia USA 20190 \\nTel 703-793-0005 \\nWWW.SOFTEON.COM \\n \\n \\n \\nADHOC MASTER TEMPLATE \\nUser Guide \\n\\x0c \\n \\n \\n \\nUser Guide \\n2 \\nAdhoc Master Template \\nContents \\nConventions Used ................................................................................................................... 3 \\n1. Overview \\n............................................................................................................................... 4 \\n2. Pre-requisites ....................................................................................................................... 4 \\n3. Setting up Master Template \\n................................................................................................. 4 \\n \\n\\x0c \\n \\n \\n \\nUser Guide \\n3 \\nAdhoc Master Template \\nConventions Used \\nThis section interprets the various conventions used in the document for better understanding of the \\nscreen functionality. \\nConvention \\nUsage \\n \\nDenotes the mandatory fields in the screen. Values need to be specified in \\nthe fields in order to proceed with the screen operations. \\n \\nDenotes the fields that show values retrieved from the system. \\n \\nAny subject content encapsulated in a section marked by this icon indicates \\nthat the given information will serve as a useful tip for the end users. \\n \\n \\n \\n\\x0c \\n \\n \\n \\nUser Guide \\n4 \\nAdhoc Master Template \\n1. Overview \\nYou can use the Adhoc Master Template screen for creating set ups for master screens based on the \\nvarying customer’s requirement. It is used to define each control’s column name in the table, attributes, \\nand restrictions and to assign Object ID and Definition ID. \\nMenu Access: ADM – Utility > Adhoc Setup > Adhoc Master Template \\n2. Pre-requisites \\n• \\nThe UI Object(s) must be created and mapped with Definition ID. \\n3. Setting up Master Template \\nMandatory Values \\n1) Specify the Template ID for the Master screen, which should be the Table Name that its \\ntransaction points out.  \\n \\nSpecify the following information for each master screen control. \\n2) Specify the Field Name, which is the column name in the table.  \\n3) Specify the Field Caption, the visible name for the control in the screen. \\n4) Specify the Object ID and Definition ID that defines the control type and position in the screen. \\n \\n• \\nNavigate to ADM – Utility > Adhoc Setup > Adhoc UI Object for setting \\nup UI Object(s) \\n• \\nNavigate to ADM – Utility > Adhoc Setup > Adhoc Definition for \\nsetting up the definition for the object(s) \\n \\nFigure 1 – Adhoc Master Template screen \\nOptional Values \\n5) Specify the Default Value, the value that the control should hold during page load. \\n6) Specify the Key Handler to restrict the type of value that the user enters in the control. \\n\\x0c \\n \\n \\n \\nUser Guide \\n5 \\nAdhoc Master Template \\n \\nLeave the control blank to accept any kind of value. \\n7) Specify the Code Type, if the control has link to pop-up screen that lists out the possible values in \\nthe table column. \\n8) Specify the sequence order in Sort Seq No, by which the template information to be displayed in \\nthe screen. \\n9) Choose the alignment for the grid column either as ‘Left’ or ‘Right’ or ‘Center’ from Display Align \\nlist. \\n10) Specify the Display Width (in percentage) for grid display column. \\n \\nThe total of the entire grid Columns’ Display Width must be 100 percentage. \\n11) Specify the Validation Query, the condition to validate the value in the control. \\n12) Specify the Validation Message to display, when the value does not meet the condition \\nspecified. \\n13) Select the following check boxes with reference to its usage. \\na. GUI Flag – To display the field as screen control. \\nb. Display Flag – To display the field as gird column. \\nc. Upper Case – The user specifying value is entitled to uppercase irrespective of user’s \\ninput case. \\nd. Search Flag – To denote whether the user can search the information in the master \\nscreen based on this field or not. \\ne. Mandatory Flag – To denote whether to mandate the user to specify value for this field \\nor not. The system displays this field bolded in the screen. \\nf. \\nAuto Focus – On screen load, the focus is set to the field that has Auto-focus enabled.  \\n \\nIf more than one filed has this option enabled, then the priority goes to the field \\nwith greater Sort Seq. No. \\ng. Active - To denote whether the particular Master screen is in Active status or not. \\n\\x0c \\n \\n \\n \\nUser Guide \\n6 \\nAdhoc Master Template \\nOn Submitting, the system displays the record in the grid. \\n \\nFigure 2 – Adhoc Master Template screen – with records \\n\\x0c')]"
      ]
     },
     "execution_count": 32,
     "metadata": {},
     "output_type": "execute_result"
    }
   ],
   "source": [
    "docs3"
   ]
  },
  {
   "cell_type": "code",
   "execution_count": null,
   "metadata": {},
   "outputs": [],
   "source": []
  }
 ],
 "metadata": {
  "kernelspec": {
   "display_name": "venv",
   "language": "python",
   "name": "python3"
  },
  "language_info": {
   "codemirror_mode": {
    "name": "ipython",
    "version": 3
   },
   "file_extension": ".py",
   "mimetype": "text/x-python",
   "name": "python",
   "nbconvert_exporter": "python",
   "pygments_lexer": "ipython3",
   "version": "3.11.9"
  }
 },
 "nbformat": 4,
 "nbformat_minor": 2
}
